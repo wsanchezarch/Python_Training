{
 "cells": [
  {
   "cell_type": "code",
   "execution_count": 21,
   "metadata": {},
   "outputs": [],
   "source": [
    "import pandas as pd\n",
    "import os"
   ]
  },
  {
   "cell_type": "code",
   "execution_count": 22,
   "metadata": {},
   "outputs": [],
   "source": [
    "df = pd.read_pickle(os.path.join('..','data_frame.pickle'))"
   ]
  },
  {
   "cell_type": "code",
   "execution_count": 23,
   "metadata": {},
   "outputs": [],
   "source": [
    "# Copy smaller data  for visual\n",
    "small_df = df.iloc[49980:50019, : ].copy()"
   ]
  },
  {
   "cell_type": "code",
   "execution_count": 24,
   "metadata": {},
   "outputs": [],
   "source": [
    "# Basic Excel \n",
    "#pip install openpyxl\n",
    "small_df.to_excel('Excel/basic.xlsx')"
   ]
  },
  {
   "cell_type": "code",
   "execution_count": 25,
   "metadata": {},
   "outputs": [],
   "source": [
    "# Basic Excel without index\n",
    "small_df.to_excel('Excel/no_index.xlsx', index=False)\n",
    "\n",
    "# Basic Excel selected columns\n",
    "small_df.to_excel(\"Excel/columns.xlsx\", columns=['artist','title','year'])"
   ]
  },
  {
   "cell_type": "code",
   "execution_count": 31,
   "metadata": {},
   "outputs": [],
   "source": [
    "# Multiple Worksheets\n",
    "#pip install xlsxwriter\n",
    "writer = pd.ExcelWriter('Excel/mult_sheets.xlsx', engine='xlsxwriter')\n",
    "small_df.to_excel(writer, sheet_name=\"Preview\", index=False, columns=['artist','title','year'])\n",
    "df.to_excel(writer,sheet_name=\"Complete\", index=False)\n",
    "writer.close()"
   ]
  },
  {
   "cell_type": "code",
   "execution_count": 37,
   "metadata": {},
   "outputs": [],
   "source": [
    "# Excel Conditional Formatting\n",
    "artist_counts = df['artist'].value_counts()\n",
    "artist_counts.head()\n",
    "writer = pd.ExcelWriter('Excel/colors.xlsx', engine='xlsxwriter')\n",
    "artist_counts.to_excel(writer, sheet_name ='Artist Counts')\n",
    "sheet = writer.sheets['Artist Counts']\n",
    "cells_range = 'B2:B{}'.format(len(artist_counts.index))\n",
    "sheet.conditional_format(cells_range,{'type':'2_color_scale',\n",
    "                                      'min_value': '10',\n",
    "                                      'min_type': 'percentile',\n",
    "                                      'max_value': '99',\n",
    "                                      'max_type': 'percentile'})\n",
    "writer.close()\n"
   ]
  }
 ],
 "metadata": {
  "kernelspec": {
   "display_name": "Python 3",
   "language": "python",
   "name": "python3"
  },
  "language_info": {
   "codemirror_mode": {
    "name": "ipython",
    "version": 3
   },
   "file_extension": ".py",
   "mimetype": "text/x-python",
   "name": "python",
   "nbconvert_exporter": "python",
   "pygments_lexer": "ipython3",
   "version": "3.8.7"
  },
  "orig_nbformat": 4
 },
 "nbformat": 4,
 "nbformat_minor": 2
}
