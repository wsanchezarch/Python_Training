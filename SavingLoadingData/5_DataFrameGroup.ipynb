{
 "cells": [
  {
   "cell_type": "code",
   "execution_count": null,
   "metadata": {},
   "outputs": [],
   "source": [
    "import pandas as pd\n",
    "import os\n",
    "import numpy as np\n",
    "df = pd.read_pickle(os.path.join('..','data_frame.pickle'))"
   ]
  },
  {
   "cell_type": "code",
   "execution_count": null,
   "metadata": {},
   "outputs": [],
   "source": [
    "# Iteration\n",
    "small_df = df.iloc[49980:50019, :].copy()\n",
    "grouped = small_df.groupby('artist')\n",
    "print(type(grouped))\n",
    "for name, group_df in grouped:\n",
    "    print(name)\n",
    "    print(group_df)\n",
    "    break"
   ]
  },
  {
   "cell_type": "code",
   "execution_count": null,
   "metadata": {},
   "outputs": [],
   "source": [
    "# Aggregate # Mins\n",
    "for name, group_df in small_df.groupby('artist'):\n",
    "    min_year = group_df['acquisitionYear'].min()\n",
    "    print (f\"{name}: {min_year}\".format())"
   ]
  },
  {
   "cell_type": "code",
   "execution_count": null,
   "metadata": {},
   "outputs": [],
   "source": [
    "# Transform \n",
    "# Equivalent of editing by hand\n",
    "# Make a case where there is no data to interfere\n",
    "# small_df.loc[[11838,16441], 'medium'] = np.nan\n",
    "\n",
    "def fill_values(series):\n",
    "    values_counted = series.value_counts()\n",
    "    if values_counted.empty:\n",
    "        return series\n",
    "    most_frequent = values_counted.index[0]\n",
    "    new_medium = series.fillna(most_frequent)\n",
    "    return new_medium\n",
    "\n",
    "def transform_df(source_df):\n",
    "    group_dfs= []\n",
    "    for name, group_df in source_df.groupby('artist'):\n",
    "        filled_df = group_df.copy()\n",
    "        filled_df.loc[:,\"medium\"] = fill_values(df['medium'])\n",
    "        group_dfs.append(filled_df)\n",
    "    new_df = pd.concat(group_dfs)\n",
    "    return new_df"
   ]
  },
  {
   "cell_type": "code",
   "execution_count": null,
   "metadata": {},
   "outputs": [],
   "source": [
    "# Check the result\n",
    "filled_df = transform_df(small_df)"
   ]
  }
 ],
 "metadata": {
  "kernelspec": {
   "display_name": "Python 3",
   "language": "python",
   "name": "python3"
  },
  "language_info": {
   "codemirror_mode": {
    "name": "ipython",
    "version": 3
   },
   "file_extension": ".py",
   "mimetype": "text/x-python",
   "name": "python",
   "nbconvert_exporter": "python",
   "pygments_lexer": "ipython3",
   "version": "3.8.7"
  },
  "orig_nbformat": 4
 },
 "nbformat": 4,
 "nbformat_minor": 2
}
