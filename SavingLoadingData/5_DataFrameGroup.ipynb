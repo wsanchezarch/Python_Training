{
 "cells": [
  {
   "cell_type": "code",
   "execution_count": null,
   "metadata": {},
   "outputs": [],
   "source": [
    "import pandas as pd\n",
    "import os\n",
    "import numpy as np\n",
    "df = pd.read_pickle(os.path.join('..','data_frame.pickle'))"
   ]
  },
  {
   "cell_type": "code",
   "execution_count": null,
   "metadata": {},
   "outputs": [],
   "source": [
    "# Iteration\n",
    "small_df = df.iloc[49980:50019, :].copy()\n",
    "grouped = small_df.groupby('artist')\n",
    "print(type(grouped))\n",
    "for name, group_df in grouped:\n",
    "    print(name)\n",
    "    print(group_df)\n",
    "    break"
   ]
  },
  {
   "cell_type": "code",
   "execution_count": null,
   "metadata": {},
   "outputs": [],
   "source": [
    "# Aggregate # Mins\n",
    "for name, group_df in small_df.groupby('artist'):\n",
    "    min_year = group_df['acquisitionYear'].min()\n",
    "    print (f\"{name}: {min_year}\".format())"
   ]
  },
  {
   "cell_type": "code",
   "execution_count": null,
   "metadata": {},
   "outputs": [],
   "source": [
    "# Transform \n",
    "# Equivalent of editing by hand\n",
    "# Make a case where there is no data to interfere\n",
    "# small_df.loc[[11838,16441], 'medium'] = np.nan\n",
    "\n",
    "def fill_values(series):\n",
    "    values_counted = series.value_counts()\n",
    "    if values_counted.empty:\n",
    "        return series\n",
    "    most_frequent = values_counted.index[0]\n",
    "    new_medium = series.fillna(most_frequent)\n",
    "    return new_medium\n",
    "\n",
    "def transform_df(source_df, col):\n",
    "    group_dfs = []  \n",
    "    for name, group_df in source_df.groupby('artist'):\n",
    "        filled_df = group_df.copy()\n",
    "        filled_df.loc[:, 'medium'] = fill_values(group_df['medium'])\n",
    "        group_dfs.append(filled_df)\n",
    "    \n",
    "    new_df = pd.concat(group_dfs)\n",
    "    return new_df"
   ]
  },
  {
   "cell_type": "code",
   "execution_count": null,
   "metadata": {},
   "outputs": [],
   "source": [
    "# Check the result\n",
    "filled_df = transform_df(small_df)"
   ]
  },
  {
   "cell_type": "code",
   "execution_count": null,
   "metadata": {},
   "outputs": [],
   "source": [
    "# Built-ins\n",
    "# Transform\n",
    "grouped_mediums = small_df.groupby('artist')['medium']\n",
    "small_df.loc[:, 'medium'] = grouped_mediums.transform(fill_values)\n"
   ]
  },
  {
   "cell_type": "code",
   "execution_count": 101,
   "metadata": {},
   "outputs": [
    {
     "data": {
      "text/html": [
       "<div>\n",
       "<style scoped>\n",
       "    .dataframe tbody tr th:only-of-type {\n",
       "        vertical-align: middle;\n",
       "    }\n",
       "\n",
       "    .dataframe tbody tr th {\n",
       "        vertical-align: top;\n",
       "    }\n",
       "\n",
       "    .dataframe thead th {\n",
       "        text-align: right;\n",
       "    }\n",
       "</style>\n",
       "<table border=\"1\" class=\"dataframe\">\n",
       "  <thead>\n",
       "    <tr style=\"text-align: right;\">\n",
       "      <th></th>\n",
       "      <th>title</th>\n",
       "      <th>medium</th>\n",
       "      <th>year</th>\n",
       "      <th>acquisitionYear</th>\n",
       "      <th>width</th>\n",
       "      <th>height</th>\n",
       "      <th>units</th>\n",
       "    </tr>\n",
       "    <tr>\n",
       "      <th>artist</th>\n",
       "      <th></th>\n",
       "      <th></th>\n",
       "      <th></th>\n",
       "      <th></th>\n",
       "      <th></th>\n",
       "      <th></th>\n",
       "      <th></th>\n",
       "    </tr>\n",
       "  </thead>\n",
       "  <tbody>\n",
       "    <tr>\n",
       "      <th>Frost, Sir Terry</th>\n",
       "      <td>Blue Moon</td>\n",
       "      <td>Drypoint on paper</td>\n",
       "      <td>1952.0</td>\n",
       "      <td>1983.0</td>\n",
       "      <td>125</td>\n",
       "      <td>143</td>\n",
       "      <td>mm</td>\n",
       "    </tr>\n",
       "    <tr>\n",
       "      <th>Phillips, Esq Tom</th>\n",
       "      <td>[colophon]</td>\n",
       "      <td>Etching on paper</td>\n",
       "      <td>1979.0</td>\n",
       "      <td>1983.0</td>\n",
       "      <td>292</td>\n",
       "      <td>204</td>\n",
       "      <td>mm</td>\n",
       "    </tr>\n",
       "    <tr>\n",
       "      <th>Wols</th>\n",
       "      <td>[no title]</td>\n",
       "      <td>Etching and drypoint on paper</td>\n",
       "      <td>1937.0</td>\n",
       "      <td>1983.0</td>\n",
       "      <td>102</td>\n",
       "      <td>102</td>\n",
       "      <td>mm</td>\n",
       "    </tr>\n",
       "  </tbody>\n",
       "</table>\n",
       "</div>"
      ],
      "text/plain": [
       "                        title                         medium    year   \n",
       "artist                                                                 \n",
       "Frost, Sir Terry    Blue Moon              Drypoint on paper  1952.0  \\\n",
       "Phillips, Esq Tom  [colophon]               Etching on paper  1979.0   \n",
       "Wols               [no title]  Etching and drypoint on paper  1937.0   \n",
       "\n",
       "                   acquisitionYear width height units  \n",
       "artist                                                 \n",
       "Frost, Sir Terry            1983.0   125    143    mm  \n",
       "Phillips, Esq Tom           1983.0   292    204    mm  \n",
       "Wols                        1983.0   102    102    mm  "
      ]
     },
     "execution_count": 101,
     "metadata": {},
     "output_type": "execute_result"
    }
   ],
   "source": [
    "# Min\n",
    "small_df.groupby('artist').agg(np.min)\n",
    "small_df.groupby('artist').min()"
   ]
  },
  {
   "cell_type": "code",
   "execution_count": 98,
   "metadata": {},
   "outputs": [],
   "source": [
    "# Filter\n",
    "grouped_titles = small_df.groupby('title')\n",
    "title_counts = grouped_titles.size().sort_values(ascending=False)"
   ]
  },
  {
   "cell_type": "code",
   "execution_count": 99,
   "metadata": {},
   "outputs": [],
   "source": [
    "# Lamnda Filter\n",
    "condition = lambda x: len(x.index) > 1\n",
    "dup_titles_df =grouped_titles.filter(condition)\n",
    "dup_titles_df.sort_values('title', inplace=True)"
   ]
  }
 ],
 "metadata": {
  "kernelspec": {
   "display_name": "Python 3",
   "language": "python",
   "name": "python3"
  },
  "language_info": {
   "codemirror_mode": {
    "name": "ipython",
    "version": 3
   },
   "file_extension": ".py",
   "mimetype": "text/x-python",
   "name": "python",
   "nbconvert_exporter": "python",
   "pygments_lexer": "ipython3",
   "version": "3.8.7"
  },
  "orig_nbformat": 4
 },
 "nbformat": 4,
 "nbformat_minor": 2
}
