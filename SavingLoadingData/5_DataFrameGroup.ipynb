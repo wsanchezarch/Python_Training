{
 "cells": [
  {
   "cell_type": "code",
   "execution_count": 24,
   "metadata": {},
   "outputs": [],
   "source": [
    "import pandas as pd\n",
    "import os\n",
    "import numpy as np\n",
    "df = pd.read_pickle(os.path.join('..','data_frame.pickle'))"
   ]
  },
  {
   "cell_type": "code",
   "execution_count": 48,
   "metadata": {},
   "outputs": [
    {
     "name": "stdout",
     "output_type": "stream",
     "text": [
      "<class 'pandas.core.groupby.generic.DataFrameGroupBy'>\n",
      "Frost, Sir Terry\n",
      "                artist            title               medium    year   \n",
      "id                                                                     \n",
      "4704  Frost, Sir Terry        Blue Moon  Lithograph on paper  1952.0  \\\n",
      "4705  Frost, Sir Terry      Boat Shapes     Linocut on paper  1952.0   \n",
      "4706  Frost, Sir Terry      Boat Shapes     Linocut on paper  1954.0   \n",
      "4707  Frost, Sir Terry      Boat Shapes     Linocut on paper  1954.0   \n",
      "4708  Frost, Sir Terry            Leeds    Drypoint on paper  1956.0   \n",
      "4709  Frost, Sir Terry  Camping, Anduze     Etching on paper  1979.0   \n",
      "4710  Frost, Sir Terry     Umea, Sweden     Etching on paper  1979.0   \n",
      "4711  Frost, Sir Terry    Self-Portrait     Etching on paper  1980.0   \n",
      "\n",
      "      acquisitionYear width height units  \n",
      "id                                        \n",
      "4704           1983.0   355    273    mm  \n",
      "4705           1983.0   132    143    mm  \n",
      "4706           1983.0   131    155    mm  \n",
      "4707           1983.0   193    267    mm  \n",
      "4708           1983.0   125    167    mm  \n",
      "4709           1983.0   257    209    mm  \n",
      "4710           1983.0   NaN    NaN   NaN  \n",
      "4711           1983.0   277    200    mm  \n",
      "Phillips, Esq Tom\n",
      "                  artist       title            medium    year   \n",
      "id                                                               \n",
      "11838  Phillips, Esq Tom  [colophon]  Etching on paper  1979.0  \\\n",
      "\n",
      "       acquisitionYear width height units  \n",
      "id                                         \n",
      "11838           1983.0   292    204    mm  \n",
      "Wols\n",
      "      artist       title                         medium    year   \n",
      "id                                                                \n",
      "16412   Wols  [no title]               Etching on paper  1937.0  \\\n",
      "16413   Wols  [no title]  Etching and drypoint on paper  1937.0   \n",
      "16414   Wols  [no title]  Etching and drypoint on paper  1937.0   \n",
      "16415   Wols  [no title]  Etching and drypoint on paper  1937.0   \n",
      "16416   Wols  [no title]  Etching and drypoint on paper  1937.0   \n",
      "16417   Wols  [no title]               Etching on paper  1937.0   \n",
      "16418   Wols  [no title]  Etching and drypoint on paper  1937.0   \n",
      "16419   Wols  [no title]  Etching and drypoint on paper  1937.0   \n",
      "16420   Wols  [no title]  Etching and drypoint on paper  1937.0   \n",
      "16421   Wols  [no title]  Etching and drypoint on paper  1937.0   \n",
      "16422   Wols  [no title]  Etching and drypoint on paper  1937.0   \n",
      "16423   Wols  [no title]               Etching on paper  1937.0   \n",
      "16424   Wols  [no title]  Etching and drypoint on paper  1937.0   \n",
      "16425   Wols  [no title]               Etching on paper  1937.0   \n",
      "16426   Wols  [no title]  Etching and drypoint on paper  1937.0   \n",
      "16427   Wols  [no title]  Etching and drypoint on paper  1937.0   \n",
      "16428   Wols  [no title]  Etching and drypoint on paper  1937.0   \n",
      "16429   Wols  [no title]  Etching and drypoint on paper  1937.0   \n",
      "16430   Wols  [no title]  Etching and drypoint on paper  1937.0   \n",
      "16431   Wols  [no title]  Etching and drypoint on paper  1937.0   \n",
      "16432   Wols  [no title]  Etching and drypoint on paper  1937.0   \n",
      "16433   Wols  [no title]  Etching and drypoint on paper  1937.0   \n",
      "16434   Wols  [no title]  Etching and drypoint on paper  1937.0   \n",
      "16435   Wols  [no title]  Etching and drypoint on paper  1937.0   \n",
      "16436   Wols  [no title]  Etching and drypoint on paper  1937.0   \n",
      "16437   Wols  [no title]  Etching and drypoint on paper  1937.0   \n",
      "16438   Wols  [no title]  Etching and drypoint on paper  1937.0   \n",
      "16439   Wols  [no title]  Etching and drypoint on paper  1937.0   \n",
      "16440   Wols  [no title]  Etching and drypoint on paper  1937.0   \n",
      "16441   Wols  [no title]  Etching and drypoint on paper  1937.0   \n",
      "\n",
      "       acquisitionYear width height units  \n",
      "id                                         \n",
      "16412           1983.0   130     80    mm  \n",
      "16413           1983.0   187    102    mm  \n",
      "16414           1983.0   248    168    mm  \n",
      "16415           1983.0   149    102    mm  \n",
      "16416           1983.0   203    120    mm  \n",
      "16417           1983.0   130     79    mm  \n",
      "16418           1983.0   124     98    mm  \n",
      "16419           1983.0   140     89    mm  \n",
      "16420           1983.0   140     86    mm  \n",
      "16421           1983.0    83     79    mm  \n",
      "16422           1983.0   200    146    mm  \n",
      "16423           1983.0    60     98    mm  \n",
      "16424           1983.0   124     98    mm  \n",
      "16425           1983.0   124     98    mm  \n",
      "16426           1983.0   204    118    mm  \n",
      "16427           1983.0   105     98    mm  \n",
      "16428           1983.0   197    149    mm  \n",
      "16429           1983.0   102    120    mm  \n",
      "16430           1983.0   118     95    mm  \n",
      "16431           1983.0   140     79    mm  \n",
      "16432           1983.0   124     95    mm  \n",
      "16433           1983.0   105     73    mm  \n",
      "16434           1983.0   121    102    mm  \n",
      "16435           1983.0   121     92    mm  \n",
      "16436           1983.0   124     98    mm  \n",
      "16437           1983.0   124     98    mm  \n",
      "16438           1983.0   124     98    mm  \n",
      "16439           1983.0   102     70    mm  \n",
      "16440           1983.0   105     70    mm  \n",
      "16441           1983.0   324    248    mm  \n"
     ]
    }
   ],
   "source": [
    "# Iteration\n",
    "small_df = df.iloc[49980:50019, :].copy()\n",
    "grouped = small_df.groupby('artist')\n",
    "print(type(grouped))\n",
    "for name, group_df in grouped:\n",
    "    print(name)\n",
    "    print(group_df)\n",
    "    #break"
   ]
  },
  {
   "cell_type": "code",
   "execution_count": 26,
   "metadata": {},
   "outputs": [
    {
     "name": "stdout",
     "output_type": "stream",
     "text": [
      "Frost, Sir Terry: 1983.0\n",
      "Phillips, Esq Tom: 1983.0\n",
      "Wols: 1983.0\n"
     ]
    }
   ],
   "source": [
    "# Aggregate # Mins\n",
    "for name, group_df in small_df.groupby('artist'):\n",
    "    min_year = group_df['acquisitionYear'].min()\n",
    "    print (f\"{name}: {min_year}\".format())"
   ]
  },
  {
   "cell_type": "code",
   "execution_count": 42,
   "metadata": {},
   "outputs": [],
   "source": [
    "# Fill values function \n",
    "def fill_values(series):\n",
    "    values_counted = series.value_counts()\n",
    "    if values_counted.empty:\n",
    "        return series\n",
    "    most_frequent = values_counted.index[0]\n",
    "    new_medium = series.fillna(most_frequent)\n",
    "    return new_medium\n",
    "\n",
    "# Transform function\n",
    "def transform_df(source_df):\n",
    "    group_dfs = []  \n",
    "    for name, group_df in source_df.groupby('artist'):\n",
    "        filled_df = group_df.copy()\n",
    "        filled_df.loc[:, 'medium'] = fill_values(group_df['medium'])\n",
    "        group_dfs.append(filled_df)\n",
    "        new_df = pd.concat(group_dfs)\n",
    "    return new_df"
   ]
  },
  {
   "cell_type": "code",
   "execution_count": 49,
   "metadata": {},
   "outputs": [],
   "source": [
    "small_df.loc[[4704,16441], 'medium'] = np.nan"
   ]
  },
  {
   "cell_type": "code",
   "execution_count": 45,
   "metadata": {},
   "outputs": [],
   "source": [
    "# Check the result\n",
    "# small_df.loc[[4704,16441], 'medium'] = np.nan\n",
    "# Equivalent of editing by hand\n",
    "\n",
    "filled_df = transform_df(small_df)"
   ]
  },
  {
   "cell_type": "code",
   "execution_count": 50,
   "metadata": {},
   "outputs": [],
   "source": [
    "# Built-ins\n",
    "# Transform\n",
    "grouped_mediums = small_df.groupby('artist')['medium']\n",
    "small_df.loc[:, 'medium'] = grouped_mediums.transform(fill_values)\n"
   ]
  },
  {
   "cell_type": "code",
   "execution_count": 60,
   "metadata": {},
   "outputs": [
    {
     "data": {
      "text/plain": [
       "artist\n",
       "Frost, Sir Terry     1983.0\n",
       "Phillips, Esq Tom    1983.0\n",
       "Wols                 1983.0\n",
       "Name: acquisitionYear, dtype: float64"
      ]
     },
     "execution_count": 60,
     "metadata": {},
     "output_type": "execute_result"
    }
   ],
   "source": [
    "# Min\n",
    "small_df.groupby('artist')[\"acquisitionYear\"].agg(np.min)\n",
    "small_df.groupby('artist')[\"acquisitionYear\"].min()"
   ]
  },
  {
   "cell_type": "code",
   "execution_count": 54,
   "metadata": {},
   "outputs": [],
   "source": [
    "# Filter\n",
    "grouped_titles = small_df.groupby('title')\n",
    "title_counts = grouped_titles.size().sort_values(ascending=False)"
   ]
  },
  {
   "cell_type": "code",
   "execution_count": 15,
   "metadata": {},
   "outputs": [],
   "source": [
    "# Lamnda Filter\n",
    "condition = lambda x: len(x.index) > 1\n",
    "dup_titles_df =grouped_titles.filter(condition)\n",
    "dup_titles_df.sort_values('title', inplace=True)"
   ]
  }
 ],
 "metadata": {
  "kernelspec": {
   "display_name": "Python 3",
   "language": "python",
   "name": "python3"
  },
  "language_info": {
   "codemirror_mode": {
    "name": "ipython",
    "version": 3
   },
   "file_extension": ".py",
   "mimetype": "text/x-python",
   "name": "python",
   "nbconvert_exporter": "python",
   "pygments_lexer": "ipython3",
   "version": "3.9.1"
  },
  "orig_nbformat": 4
 },
 "nbformat": 4,
 "nbformat_minor": 2
}
