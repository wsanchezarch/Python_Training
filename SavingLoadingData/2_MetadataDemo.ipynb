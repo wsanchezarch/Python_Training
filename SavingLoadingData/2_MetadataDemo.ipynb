{
 "cells": [
  {
   "cell_type": "code",
   "execution_count": null,
   "metadata": {},
   "outputs": [],
   "source": [
    "# Import pandas and OS library\n",
    "import pandas as pd\n",
    "import os\n",
    "\n",
    "# Set the CSV datasource filte path\n",
    "CSV_PATH = os.path.join(\"..\",\"SampleData/artwork_data.csv\")\n"
   ]
  },
  {
   "cell_type": "code",
   "execution_count": null,
   "metadata": {},
   "outputs": [],
   "source": [
    "# Limit 5 rows\n",
    "df= pd.read_csv(CSV_PATH, nrows= 5)\n",
    "df"
   ]
  },
  {
   "cell_type": "code",
   "execution_count": null,
   "metadata": {},
   "outputs": [],
   "source": [
    "# Specify Index Name\n",
    "df = pd.read_csv(CSV_PATH, nrows=5, index_col='id')\n",
    "df"
   ]
  },
  {
   "cell_type": "code",
   "execution_count": null,
   "metadata": {},
   "outputs": [],
   "source": [
    "# Specify Columns\n",
    "df = pd.read_csv(CSV_PATH, nrows=5, \n",
    "                 index_col ='id',\n",
    "                 usecols=['id', 'artist'])\n",
    "df"
   ]
  },
  {
   "cell_type": "code",
   "execution_count": null,
   "metadata": {},
   "outputs": [],
   "source": [
    "# Common column names\n",
    "COLS_TO_USE = [\"id\",'artist','title','medium', 'year', 'acquisitionYear', 'height','width','units']"
   ]
  },
  {
   "cell_type": "code",
   "execution_count": null,
   "metadata": {},
   "outputs": [],
   "source": [
    "df = pd.read_csv(CSV_PATH, nrows=5, \n",
    "                 index_col ='id',\n",
    "                 usecols = COLS_TO_USE)\n",
    "df"
   ]
  },
  {
   "cell_type": "code",
   "execution_count": null,
   "metadata": {},
   "outputs": [],
   "source": [
    "# Save Dataframe to OS\n",
    "df = pd.read_csv(CSV_PATH,  \n",
    "                 index_col ='id',\n",
    "                 usecols = COLS_TO_USE)\n",
    "df.to_pickle(os.path.join('..','data_frame.pickle'))"
   ]
  }
 ],
 "metadata": {
  "kernelspec": {
   "display_name": "Python 3",
   "language": "python",
   "name": "python3"
  },
  "language_info": {
   "codemirror_mode": {
    "name": "ipython",
    "version": 3
   },
   "file_extension": ".py",
   "mimetype": "text/x-python",
   "name": "python",
   "nbconvert_exporter": "python",
   "pygments_lexer": "ipython3",
   "version": "3.8.7"
  },
  "orig_nbformat": 4
 },
 "nbformat": 4,
 "nbformat_minor": 2
}
