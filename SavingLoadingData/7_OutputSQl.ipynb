{
 "cells": [
  {
   "cell_type": "code",
   "execution_count": 5,
   "metadata": {},
   "outputs": [],
   "source": [
    "import sqlite3 as sl\n",
    "import pandas as pd\n",
    "import os"
   ]
  },
  {
   "cell_type": "code",
   "execution_count": 6,
   "metadata": {},
   "outputs": [],
   "source": [
    "df = pd.read_pickle(os.path.join('..','data_frame.pickle'))\n",
    "# Copy smaller data  for visual\n",
    "small_df = df.iloc[49980:50019, : ].copy()"
   ]
  },
  {
   "cell_type": "code",
   "execution_count": 8,
   "metadata": {},
   "outputs": [],
   "source": [
    "# Create auto create database and save table\n",
    "with sl.connect('Database/Sqlite3Database.db') as conn:\n",
    "    small_df.to_sql('Tate',conn)"
   ]
  },
  {
   "cell_type": "code",
   "execution_count": null,
   "metadata": {},
   "outputs": [],
   "source": [
    "# Sample query\n",
    "with sl.connect('Database/Sqlite3Database.db') as conn:\n",
    "    cur = conn.cursor()\n",
    "    res = cur.execute(\"SELECT  *  FROM Tate\")\n",
    "    res = res.fetchall()\n",
    "    for row in res:\n",
    "        print (row)"
   ]
  },
  {
   "cell_type": "code",
   "execution_count": 20,
   "metadata": {},
   "outputs": [],
   "source": [
    "#using Pandas\n",
    "with sl.connect('Database/Sqlite3Database.db') as conn:\n",
    "    df2 = pd.read_sql_query(\"SELECT  DISTINCT artist  FROM Tate\", conn)"
   ]
  }
 ],
 "metadata": {
  "kernelspec": {
   "display_name": "Python 3",
   "language": "python",
   "name": "python3"
  },
  "language_info": {
   "codemirror_mode": {
    "name": "ipython",
    "version": 3
   },
   "file_extension": ".py",
   "mimetype": "text/x-python",
   "name": "python",
   "nbconvert_exporter": "python",
   "pygments_lexer": "ipython3",
   "version": "3.8.7"
  },
  "orig_nbformat": 4
 },
 "nbformat": 4,
 "nbformat_minor": 2
}
