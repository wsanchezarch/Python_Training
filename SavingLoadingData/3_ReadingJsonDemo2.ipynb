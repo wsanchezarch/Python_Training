{
 "cells": [
  {
   "cell_type": "code",
   "execution_count": null,
   "metadata": {},
   "outputs": [],
   "source": [
    "import pandas as pd\n",
    "import os\n",
    "import json"
   ]
  },
  {
   "cell_type": "code",
   "execution_count": null,
   "metadata": {},
   "outputs": [],
   "source": [
    "# Example usage of from records method\n",
    "records =[(\"Expresso\", \"100\"),\n",
    "          (\"Flat White\",\"150\")]\n",
    "df = pd.DataFrame.from_records(records)\n",
    "df"
   ]
  },
  {
   "cell_type": "code",
   "execution_count": null,
   "metadata": {},
   "outputs": [],
   "source": [
    "# Example usage of from records method\n",
    "df=pd.DataFrame.from_records(records, \n",
    "                             columns=[\"Coffee\",\"Price\"])\n",
    "df"
   ]
  },
  {
   "cell_type": "code",
   "execution_count": null,
   "metadata": {},
   "outputs": [],
   "source": [
    "KEYS_TO_USE = ['id','all_artists', 'title', 'medium', 'dateText', 'acquisitionYear', 'height', 'width', 'units']\n",
    "\n",
    "def get_record_from_file(filePath, keysToUse):\n",
    "    with open(filePath) as artworkFile:\n",
    "        content = json.load(artworkFile)\n",
    "    record =[]\n",
    "    for field in keysToUse:\n",
    "        record.append(content[field])\n",
    "    return tuple(record)"
   ]
  },
  {
   "cell_type": "code",
   "execution_count": null,
   "metadata": {},
   "outputs": [],
   "source": [
    "# Single file demo\n",
    "SAMPLE_JSON = os.path.join('..','SampleData','artworks','a','000','a00001-1035.json')\n",
    "sampleRecord = get_record_from_file(SAMPLE_JSON,KEYS_TO_USE)\n",
    "sampleRecord"
   ]
  },
  {
   "cell_type": "code",
   "execution_count": null,
   "metadata": {},
   "outputs": [],
   "source": [
    "def read_artworks_from_json(keysToUse):\n",
    "    JSON_ROOT = os.path.join('..','SampleData','artworks')\n",
    "    artworks = []\n",
    "    for root, _, files in os.walk(JSON_ROOT):\n",
    "        for f in files:\n",
    "            if f.endswith('json'):\n",
    "                record = get_record_from_file(\n",
    "                    os.path.join(root,f),\n",
    "                    keysToUse\n",
    "                )\n",
    "                artworks.append(record)\n",
    "            break\n",
    "    df = pd.DataFrame.from_records(artworks,columns=keysToUse, index = \"id\")\n",
    "    return df"
   ]
  },
  {
   "cell_type": "code",
   "execution_count": null,
   "metadata": {},
   "outputs": [],
   "source": [
    "df = read_artworks_from_json(KEYS_TO_USE)"
   ]
  }
 ],
 "metadata": {
  "kernelspec": {
   "display_name": "Python 3",
   "language": "python",
   "name": "python3"
  },
  "language_info": {
   "codemirror_mode": {
    "name": "ipython",
    "version": 3
   },
   "file_extension": ".py",
   "mimetype": "text/x-python",
   "name": "python",
   "nbconvert_exporter": "python",
   "pygments_lexer": "ipython3",
   "version": "3.8.7"
  },
  "orig_nbformat": 4
 },
 "nbformat": 4,
 "nbformat_minor": 2
}
