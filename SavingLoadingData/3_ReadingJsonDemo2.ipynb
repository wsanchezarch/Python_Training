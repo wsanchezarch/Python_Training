{
 "cells": [
  {
   "cell_type": "code",
   "execution_count": null,
   "metadata": {},
   "outputs": [],
   "source": [
    "import pandas as pd\n",
    "import os\n",
    "import json"
   ]
  },
  {
   "cell_type": "code",
   "execution_count": null,
   "metadata": {},
   "outputs": [],
   "source": [
    "# Convert tuple to DataFrame using from_records\n",
    "records =[(\"Expresso\", \"100\"),\n",
    "          (\"Flat White\",\"150\")]\n",
    "df = pd.DataFrame.from_records(records)\n",
    "df"
   ]
  },
  {
   "cell_type": "code",
   "execution_count": null,
   "metadata": {},
   "outputs": [],
   "source": [
    "# Changing Column Names\n",
    "df=pd.DataFrame.from_records(records, \n",
    "                             columns=[\"Coffee\",\"Price\"])\n",
    "df"
   ]
  },
  {
   "cell_type": "code",
   "execution_count": null,
   "metadata": {},
   "outputs": [],
   "source": [
    "# Column Names to use. \n",
    "KEYS_TO_USE = ['id','all_artists', 'title', 'medium', 'dateText', 'acquisitionYear', 'height', 'width', 'units']\n",
    "# Artwork Folder\n",
    "ARTWORK_JSON_FILES_FOLDER = os.path.join(os.getcwd(), '..','SampleData','artworks')\n",
    "print (KEYS_TO_USE)\n",
    "print (ARTWORK_JSON_FILES_FOLDER)"
   ]
  },
  {
   "cell_type": "code",
   "execution_count": null,
   "metadata": {},
   "outputs": [],
   "source": [
    "# Sample of loading data from a json file to a tuple\n",
    "filePath = os.path.join(ARTWORK_JSON_FILES_FOLDER, 'a','000','a00001-1035.json')\n",
    "with open(filePath) as jsonFile:\n",
    "    content = json.load(jsonFile)\n",
    "    contributors = content[\"contributors\"] # Sample of accessing nested fields/objects\n",
    "record =[]\n",
    "for field in KEYS_TO_USE:\n",
    "    record.append(content[field])\n",
    "result = tuple(record)\n",
    "result"
   ]
  },
  {
   "cell_type": "code",
   "execution_count": null,
   "metadata": {},
   "outputs": [],
   "source": [
    "# Function the will read record from json file. Accepts  JSON file Paths and field names\n",
    "# Return a tuple of containing specific fields\n",
    "def get_record_from_file(filePath, keysToUse):\n",
    "    with open(filePath) as jsonFile:\n",
    "        content = json.load(jsonFile)\n",
    "    record =[]\n",
    "    for field in keysToUse:\n",
    "        record.append(content[field])\n",
    "    return tuple(record)"
   ]
  },
  {
   "cell_type": "code",
   "execution_count": null,
   "metadata": {},
   "outputs": [],
   "source": [
    "# Sample load of JSON File using the function\n",
    "SAMPLE_JSON_FILE = os.path.join(ARTWORK_JSON_FILES_FOLDER, 'a','000','a00001-1035.json')\n",
    "sampleRecord = get_record_from_file(SAMPLE_JSON_FILE,KEYS_TO_USE)\n",
    "sampleRecord"
   ]
  },
  {
   "cell_type": "code",
   "execution_count": null,
   "metadata": {},
   "outputs": [],
   "source": [
    "# Function that will traverse folder and subfolders. \n",
    "# Get the filepath of each json file\n",
    "# Leverage get_record_from_file method to get the tuple of field values\n",
    "# Return the dataframe of consolidated tuples in a data frame. \n",
    "# Accepts Root Folder of json files, Fields/Columns to find, index name\n",
    "def read_from_json_files(jsonRootFolder, keysToUse, id):\n",
    "    resultList = []\n",
    "    for root, dirs, files in os.walk(jsonRootFolder):\n",
    "        for f in files:\n",
    "            if f.endswith('json'):\n",
    "                record = get_record_from_file(\n",
    "                    os.path.join(root,f),\n",
    "                    keysToUse\n",
    "                )\n",
    "                resultList.append(record)\n",
    "            break\n",
    "    df = pd.DataFrame.from_records(resultList,columns=keysToUse, index = id)\n",
    "    return df"
   ]
  },
  {
   "cell_type": "code",
   "execution_count": null,
   "metadata": {},
   "outputs": [],
   "source": [
    "# Read all Artwork Json files \n",
    "df = read_from_json_files(ARTWORK_JSON_FILES_FOLDER, KEYS_TO_USE, \"id\")\n",
    "df"
   ]
  }
 ],
 "metadata": {
  "kernelspec": {
   "display_name": "Python 3",
   "language": "python",
   "name": "python3"
  },
  "language_info": {
   "codemirror_mode": {
    "name": "ipython",
    "version": 3
   },
   "file_extension": ".py",
   "mimetype": "text/x-python",
   "name": "python",
   "nbconvert_exporter": "python",
   "pygments_lexer": "ipython3",
   "version": "3.8.7"
  },
  "orig_nbformat": 4
 },
 "nbformat": 4,
 "nbformat_minor": 2
}
