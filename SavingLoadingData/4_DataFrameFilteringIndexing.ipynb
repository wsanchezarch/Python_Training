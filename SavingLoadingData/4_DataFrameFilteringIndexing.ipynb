{
 "cells": [
  {
   "cell_type": "code",
   "execution_count": null,
   "metadata": {},
   "outputs": [],
   "source": [
    "import pandas as pd\n",
    "import os"
   ]
  },
  {
   "cell_type": "code",
   "execution_count": null,
   "metadata": {},
   "outputs": [],
   "source": [
    "# Read data pickled previously\n",
    "df = pd.read_pickle(os.path.join(os.getcwd(),'../data_frame.pickle'))\n",
    "df"
   ]
  },
  {
   "cell_type": "code",
   "execution_count": null,
   "metadata": {},
   "outputs": [],
   "source": [
    "# Two way of accessing single colum\n",
    "df.artist is  df[\"artist\"]"
   ]
  },
  {
   "cell_type": "code",
   "execution_count": null,
   "metadata": {},
   "outputs": [],
   "source": [
    "# Demo Indexing\n",
    "artists = df[\"artist\"]\n",
    "artist_unique = pd.unique(artists)\n",
    "print(len(artist_unique))"
   ]
  },
  {
   "cell_type": "code",
   "execution_count": null,
   "metadata": {},
   "outputs": [],
   "source": [
    "# Demo Indexing : one line\n",
    "print(len(pd.unique(df[\"artist\"])))"
   ]
  },
  {
   "cell_type": "code",
   "execution_count": null,
   "metadata": {},
   "outputs": [],
   "source": [
    "# Demo Filtering\n",
    "s = df['artist'] == 'Bacon, Francis'\n",
    "s.value_counts()"
   ]
  },
  {
   "cell_type": "code",
   "execution_count": null,
   "metadata": {},
   "outputs": [],
   "source": [
    "#Other way filtering\n",
    "artist_counts = df['artist'].value_counts()\n",
    "artist_counts['Bacon, Francis']"
   ]
  },
  {
   "cell_type": "code",
   "execution_count": null,
   "metadata": {},
   "outputs": [],
   "source": [
    "# Indexing using loc\n",
    "df.loc[1035,'artist'] # row label = 1035, column artists\n",
    "df.loc[df['artist'] == 'Bacon, Francis',:] # expressions and willcard all column"
   ]
  },
  {
   "cell_type": "code",
   "execution_count": null,
   "metadata": {},
   "outputs": [],
   "source": [
    "# Indexing using iloc\n",
    "# df.iloc[100:300, [0,1,4]] # row from 100 to 299 index, columns 0,1,4 (index/id is is not  0)\n",
    "#df.iloc[:10, [0,1,4]]  # all 0 to 9 row index\n",
    "#df.iloc[:, :]  # all rows and columns\n",
    "#df.iloc[0,:]\n",
    "df.iloc[0:2,0:2] # Slicing"
   ]
  },
  {
   "cell_type": "code",
   "execution_count": null,
   "metadata": {},
   "outputs": [],
   "source": [
    "# Potential Problem\n",
    "# Try Multiplication : Expected to fail\n",
    "\n",
    "#df['height'] * df['width']\n",
    "#df['width'].sort_values().head()\n",
    "#df['width'].sort_values().tail()"
   ]
  },
  {
   "cell_type": "code",
   "execution_count": null,
   "metadata": {},
   "outputs": [],
   "source": [
    "\n",
    "#Try Convert to Numeric: \n",
    "# Expected to fail because of NAN or non convertible to numeric data\n",
    "\n",
    "#pd.to_numeric(df['width'])"
   ]
  },
  {
   "cell_type": "code",
   "execution_count": null,
   "metadata": {},
   "outputs": [],
   "source": [
    "# Force NaNs to Width\n",
    "pd.to_numeric(df['width'], errors='coerce')\n",
    "df['width'] = pd.to_numeric(df['width'], errors='coerce')"
   ]
  },
  {
   "cell_type": "code",
   "execution_count": null,
   "metadata": {},
   "outputs": [],
   "source": [
    "# Force NaNs to Height\n",
    "pd.to_numeric(df['height'], errors='coerce')\n",
    "df['height'] = pd.to_numeric(df.loc[:,'height'], errors='coerce')"
   ]
  },
  {
   "cell_type": "code",
   "execution_count": null,
   "metadata": {},
   "outputs": [],
   "source": [
    "# Try Calculate area\n",
    "df['height'] * df['width']\n",
    "df['units'].value_counts() # check all is millimeter"
   ]
  },
  {
   "cell_type": "code",
   "execution_count": null,
   "metadata": {},
   "outputs": [],
   "source": [
    "# Create series area and attach to DF\n",
    "area = df['height'] * df['width']\n",
    "df = df.assign(area=area)\n",
    "df"
   ]
  },
  {
   "cell_type": "code",
   "execution_count": null,
   "metadata": {},
   "outputs": [],
   "source": [
    "\n",
    "# Find the row that has max area\n",
    "\n",
    "#df['area'].max() # Find the maximum area in the data frame\n",
    "#df['area'].idxmax() # Find the index of maximum area\n",
    "#df.loc[df['area'].idxmax(),:] # get the row with max area"
   ]
  }
 ],
 "metadata": {
  "kernelspec": {
   "display_name": "Python 3",
   "language": "python",
   "name": "python3"
  },
  "language_info": {
   "codemirror_mode": {
    "name": "ipython",
    "version": 3
   },
   "file_extension": ".py",
   "mimetype": "text/x-python",
   "name": "python",
   "nbconvert_exporter": "python",
   "pygments_lexer": "ipython3",
   "version": "3.8.7"
  },
  "orig_nbformat": 4
 },
 "nbformat": 4,
 "nbformat_minor": 2
}
